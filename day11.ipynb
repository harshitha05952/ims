{
 "cells": [
  {
   "cell_type": "code",
   "execution_count": null,
   "id": "caa3d609-215a-43ff-b674-b70f676370c1",
   "metadata": {},
   "outputs": [],
   "source": []
  }
 ],
 "metadata": {
  "kernelspec": {
   "display_name": "",
   "name": ""
  },
  "language_info": {
   "name": ""
  }
 },
 "nbformat": 4,
 "nbformat_minor": 5
}
