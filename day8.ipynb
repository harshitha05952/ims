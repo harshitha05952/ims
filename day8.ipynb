{
 "cells": [
  {
   "cell_type": "code",
   "execution_count": null,
   "id": "021bb281-0c77-4802-a7f0-bc51fd3fd969",
   "metadata": {},
   "outputs": [],
   "source": [
    "import nltk\n",
    "from nltk.tokenize import word_tokenize, sent_tokenize\n",
    "\n",
    "nltk.download('punkt')\n",
    "\n",
    "sample_paragraph = (\n",
    "    \"Natural Language Processing (NLP) is a fascinating field of Artificial Intelligence. \"\n",
    "    \"It focuses on the interaction between humans and computers using natural language. \"\n",
    "    \"Tokenization is one of the fundamental steps in NLP, where text is broken down into sentences or words.\"\n",
    ")\n",
    "\n",
    "def tokenize_sentences(paragraph):\n",
    "    return sent_tokenize(paragraph)\n",
    "\n",
    "def tokenize_words(paragraph):\n",
    "    return word_tokenize(paragraph)\n",
    "\n",
    "if __name__ == \"__main__\":\n",
    "    sentences = tokenize_sentences(sample_paragraph)\n",
    "    print(\"Sentences:\")\n",
    "    for idx, sentence in enumerate(sentences, 1):\n",
    "        print(f\"{idx}: {sentence}\")\n",
    "\n",
    "    print(\"\\n\")\n",
    "\n",
    "    words = tokenize_words(sample_paragraph)\n",
    "    print(\"Words:\")\n",
    "    print(words)\n"
   ]
  },
  {
   "cell_type": "code",
   "execution_count": null,
   "id": "9383b9b0-f0be-477d-bd0c-13f5b8e12228",
   "metadata": {},
   "outputs": [],
   "source": []
  }
 ],
 "metadata": {
  "kernelspec": {
   "display_name": "Python [conda env:base] *",
   "language": "python",
   "name": "conda-base-py"
  },
  "language_info": {
   "codemirror_mode": {
    "name": "ipython",
    "version": 3
   },
   "file_extension": ".py",
   "mimetype": "text/x-python",
   "name": "python",
   "nbconvert_exporter": "python",
   "pygments_lexer": "ipython3",
   "version": "3.12.7"
  }
 },
 "nbformat": 4,
 "nbformat_minor": 5
}
