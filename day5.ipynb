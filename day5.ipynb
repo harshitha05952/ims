{
 "cells": [
  {
   "cell_type": "code",
   "execution_count": null,
   "id": "6609b1ab-4c0f-4fd1-823f-9831ced2d959",
   "metadata": {},
   "outputs": [],
   "source": []
  }
 ],
 "metadata": {
  "kernelspec": {
   "display_name": "",
   "name": ""
  },
  "language_info": {
   "name": ""
  }
 },
 "nbformat": 4,
 "nbformat_minor": 5
}
