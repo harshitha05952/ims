{
 "cells": [
  {
   "cell_type": "code",
   "execution_count": null,
   "id": "2daf979b-7a81-42cc-b7c9-3b8c80df2d1e",
   "metadata": {},
   "outputs": [],
   "source": []
  }
 ],
 "metadata": {
  "kernelspec": {
   "display_name": "",
   "name": ""
  },
  "language_info": {
   "name": ""
  }
 },
 "nbformat": 4,
 "nbformat_minor": 5
}
