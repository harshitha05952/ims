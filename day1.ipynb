{
 "cells": [
  {
   "cell_type": "code",
   "execution_count": 1,
   "id": "d0a2474a-1b70-4b10-90c7-cf4fe71d4cf9",
   "metadata": {},
   "outputs": [
    {
     "name": "stdout",
     "output_type": "stream",
     "text": [
      "Integer Variable:\n",
      "Value: 10 | Type: <class 'int'>\n",
      "\n",
      "Float Variable:\n",
      "Value: 3.14 | Type: <class 'float'>\n",
      "\n",
      "String Variable:\n",
      "Value: Hello, Harshitha! | Type: <class 'str'>\n",
      "\n",
      "Boolean Variable:\n",
      "Value: True | Type: <class 'bool'>\n"
     ]
    }
   ],
   "source": [
    "integer_var = 10          \n",
    "float_var = 3.14          \n",
    "string_var = \"Hello, Harshitha!\"  \n",
    "boolean_var = True        \n",
    "\n",
    "print(\"Integer Variable:\")\n",
    "print(\"Value:\", integer_var, \"| Type:\", type(integer_var))\n",
    "\n",
    "print(\"\\nFloat Variable:\")\n",
    "print(\"Value:\", float_var, \"| Type:\", type(float_var))\n",
    "\n",
    "print(\"\\nString Variable:\")\n",
    "print(\"Value:\", string_var, \"| Type:\", type(string_var))\n",
    "\n",
    "print(\"\\nBoolean Variable:\")\n",
    "print(\"Value:\", boolean_var, \"| Type:\", type(boolean_var))"
   ]
  },
  {
   "cell_type": "code",
   "execution_count": null,
   "id": "0d3da351-eb44-42a3-95d0-128c3bdc1288",
   "metadata": {},
   "outputs": [],
   "source": []
  }
 ],
 "metadata": {
  "kernelspec": {
   "display_name": "Python [conda env:base] *",
   "language": "python",
   "name": "conda-base-py"
  },
  "language_info": {
   "codemirror_mode": {
    "name": "ipython",
    "version": 3
   },
   "file_extension": ".py",
   "mimetype": "text/x-python",
   "name": "python",
   "nbconvert_exporter": "python",
   "pygments_lexer": "ipython3",
   "version": "3.12.7"
  }
 },
 "nbformat": 4,
 "nbformat_minor": 5
}
