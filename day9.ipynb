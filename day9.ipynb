{
 "cells": [
  {
   "cell_type": "code",
   "execution_count": 2,
   "id": "8a6d1d57-ae5f-40b5-b5aa-a564ba30b0bb",
   "metadata": {},
   "outputs": [
    {
     "name": "stderr",
     "output_type": "stream",
     "text": [
      "[nltk_data] Downloading package punkt to\n",
      "[nltk_data]     C:\\Users\\Harshitha\\AppData\\Roaming\\nltk_data...\n",
      "[nltk_data]   Package punkt is already up-to-date!\n"
     ]
    },
    {
     "data": {
      "text/plain": [
       "True"
      ]
     },
     "execution_count": 2,
     "metadata": {},
     "output_type": "execute_result"
    }
   ],
   "source": [
    "import nltk\n",
    "nltk.download('punkt')"
   ]
  },
  {
   "cell_type": "code",
   "execution_count": 8,
   "id": "3ed6d2c2-3978-4299-80ed-b9f2bb2ea467",
   "metadata": {},
   "outputs": [],
   "source": [
    "import nltk\n",
    "nltk.data.path.append('C:/Users/Harshitha/AppData/Roaming/nltk_data')"
   ]
  },
  {
   "cell_type": "code",
   "execution_count": 14,
   "id": "84feefbd-9959-44bc-93f5-bde1dfc2a3ac",
   "metadata": {},
   "outputs": [
    {
     "name": "stdout",
     "output_type": "stream",
     "text": [
      "['C:\\\\Users\\\\Harshitha/nltk_data', 'C:\\\\Users\\\\Harshitha\\\\anaconda3\\\\nltk_data', 'C:\\\\Users\\\\Harshitha\\\\anaconda3\\\\share\\\\nltk_data', 'C:\\\\Users\\\\Harshitha\\\\anaconda3\\\\lib\\\\nltk_data', 'C:\\\\Users\\\\Harshitha\\\\AppData\\\\Roaming\\\\nltk_data', 'C:\\\\nltk_data', 'D:\\\\nltk_data', 'E:\\\\nltk_data', 'C:/Users/Harshitha/AppData/Roaming/nltk_data']\n"
     ]
    }
   ],
   "source": [
    "import nltk\n",
    "print(nltk.data.path)\n"
   ]
  },
  {
   "cell_type": "code",
   "execution_count": 18,
   "id": "5e04c586-468e-4ab5-ab9f-cd7a7408c122",
   "metadata": {},
   "outputs": [
    {
     "name": "stderr",
     "output_type": "stream",
     "text": [
      "[nltk_data] Downloading package punkt_tab to\n",
      "[nltk_data]     C:\\Users\\Harshitha\\AppData\\Roaming\\nltk_data...\n",
      "[nltk_data]   Unzipping tokenizers\\punkt_tab.zip.\n"
     ]
    },
    {
     "data": {
      "text/plain": [
       "True"
      ]
     },
     "execution_count": 18,
     "metadata": {},
     "output_type": "execute_result"
    }
   ],
   "source": [
    "import nltk\n",
    "nltk.download('punkt_tab')"
   ]
  },
  {
   "cell_type": "code",
   "execution_count": 20,
   "id": "c8cca776-7eeb-44c7-9931-5279cae77885",
   "metadata": {},
   "outputs": [
    {
     "name": "stdout",
     "output_type": "stream",
     "text": [
      "Sentences:\n",
      "1: Natural Language Processing (NLP) is a fascinating field of Artificial Intelligence.\n",
      "2: It focuses on the interaction between humans and computers using natural language.\n",
      "3: Tokenization is one of the fundamental steps in NLP, where text is broken down into sentences or words.\n",
      "\n",
      "\n",
      "Words:\n",
      "['Natural', 'Language', 'Processing', '(', 'NLP', ')', 'is', 'a', 'fascinating', 'field', 'of', 'Artificial', 'Intelligence', '.', 'It', 'focuses', 'on', 'the', 'interaction', 'between', 'humans', 'and', 'computers', 'using', 'natural', 'language', '.', 'Tokenization', 'is', 'one', 'of', 'the', 'fundamental', 'steps', 'in', 'NLP', ',', 'where', 'text', 'is', 'broken', 'down', 'into', 'sentences', 'or', 'words', '.']\n",
      "\n",
      "\n",
      "Cleaned Text:\n",
      "hello world welcome to nlp 101\n"
     ]
    },
    {
     "name": "stderr",
     "output_type": "stream",
     "text": [
      "[nltk_data] Downloading package punkt to\n",
      "[nltk_data]     C:\\Users\\Harshitha\\AppData\\Roaming\\nltk_data...\n",
      "[nltk_data]   Package punkt is already up-to-date!\n"
     ]
    }
   ],
   "source": [
    "import nltk\n",
    "from nltk.tokenize import word_tokenize, sent_tokenize\n",
    "import re\n",
    "\n",
    "nltk.download('punkt')\n",
    "\n",
    "sample_paragraph = (\n",
    "    \"Natural Language Processing (NLP) is a fascinating field of Artificial Intelligence. \"\n",
    "    \"It focuses on the interaction between humans and computers using natural language. \"\n",
    "    \"Tokenization is one of the fundamental steps in NLP, where text is broken down into sentences or words.\"\n",
    ")\n",
    "\n",
    "def tokenize_sentences(paragraph):\n",
    "    return sent_tokenize(paragraph)\n",
    "\n",
    "def tokenize_words(paragraph):\n",
    "    return word_tokenize(paragraph)\n",
    "\n",
    "def clean_text(text):\n",
    "    \"\"\"Remove special characters and convert text to lowercase.\"\"\"\n",
    "    text = text.lower()\n",
    "    text = re.sub(r'[^a-zA-Z0-9\\s]', '', text)\n",
    "    return text\n",
    "\n",
    "if __name__ == \"__main__\":\n",
    "    sentences = tokenize_sentences(sample_paragraph)\n",
    "    print(\"Sentences:\")\n",
    "    for idx, sentence in enumerate(sentences, 1):\n",
    "        print(f\"{idx}: {sentence}\")\n",
    "\n",
    "    print(\"\\n\")\n",
    "\n",
    "    words = tokenize_words(sample_paragraph)\n",
    "    print(\"Words:\")\n",
    "    print(words)\n",
    "\n",
    "    print(\"\\n\")\n",
    "\n",
    "    test_text = 'Hello, World! Welcome to NLP 101.'\n",
    "    cleaned_text = clean_text(test_text)\n",
    "    print(\"Cleaned Text:\")\n",
    "    print(cleaned_text)\n"
   ]
  },
  {
   "cell_type": "code",
   "execution_count": null,
   "id": "3a44a967-4b29-491a-a3f4-2471e71bcaf2",
   "metadata": {},
   "outputs": [],
   "source": [
    "\n"
   ]
  }
 ],
 "metadata": {
  "kernelspec": {
   "display_name": "Python [conda env:base] *",
   "language": "python",
   "name": "conda-base-py"
  },
  "language_info": {
   "codemirror_mode": {
    "name": "ipython",
    "version": 3
   },
   "file_extension": ".py",
   "mimetype": "text/x-python",
   "name": "python",
   "nbconvert_exporter": "python",
   "pygments_lexer": "ipython3",
   "version": "3.12.7"
  }
 },
 "nbformat": 4,
 "nbformat_minor": 5
}
