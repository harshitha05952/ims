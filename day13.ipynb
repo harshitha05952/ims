{
 "cells": [
  {
   "cell_type": "code",
   "execution_count": null,
   "id": "179cc622-5d42-445e-98ce-1be218f9d615",
   "metadata": {},
   "outputs": [],
   "source": []
  }
 ],
 "metadata": {
  "kernelspec": {
   "display_name": "",
   "name": ""
  },
  "language_info": {
   "name": ""
  }
 },
 "nbformat": 4,
 "nbformat_minor": 5
}
